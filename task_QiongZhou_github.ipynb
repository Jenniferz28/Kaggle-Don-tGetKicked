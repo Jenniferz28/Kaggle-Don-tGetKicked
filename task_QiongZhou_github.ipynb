{
 "cells": [
  {
   "cell_type": "markdown",
   "metadata": {},
   "source": [
    "## Kaggle \"Don't Get Kicked\" first model play"
   ]
  },
  {
   "cell_type": "markdown",
   "metadata": {},
   "source": [
    "**This is a binary classification problem. The most straightforward model comes to my mind is logistic regression.\n",
    "The Kaggle required to use Gini Index as the evaluation metric. Due to the limited time(a few hours), we just use AUC as the metric, ,since we know Gini Index is relevant to AUC,**\n",
    "\n",
    "+ The challenge of this competition is to predict if the car purchased at the Auction is a good / bad buy.\n",
    "+ The dependent variable (IsBadBuy) is binary (C2)\n",
    "+ There are 32 Independent variables (C3-C34), description of varaibles is in txt file\n"
   ]
  },
  {
   "cell_type": "markdown",
   "metadata": {},
   "source": [
    "### Import modules"
   ]
  },
  {
   "cell_type": "code",
   "execution_count": 1,
   "metadata": {
    "collapsed": true
   },
   "outputs": [],
   "source": [
    "import numpy as np\n",
    "import pandas as pd\n",
    "import matplotlib.pyplot as plt\n",
    "import seaborn as sn\n",
    "%matplotlib inline\n",
    "\n",
    "from sklearn.linear_model import LogisticRegression\n",
    "from sklearn.linear_model import LogisticRegressionCV\n",
    "from sklearn.utils import shuffle\n",
    "from sklearn.model_selection import train_test_split\n",
    "from sklearn import metrics\n",
    "from collections import OrderedDict"
   ]
  },
  {
   "cell_type": "code",
   "execution_count": 2,
   "metadata": {
    "collapsed": false
   },
   "outputs": [
    {
     "data": {
      "text/plain": [
       "'C:\\\\qiongzhou\\\\qventus'"
      ]
     },
     "execution_count": 2,
     "metadata": {},
     "output_type": "execute_result"
    }
   ],
   "source": [
    "#check working directory\n",
    "import os\n",
    "os.getcwd()"
   ]
  },
  {
   "cell_type": "markdown",
   "metadata": {},
   "source": [
    "### Data Preprocessing and EDA"
   ]
  },
  {
   "cell_type": "code",
   "execution_count": 3,
   "metadata": {
    "collapsed": false
   },
   "outputs": [],
   "source": [
    "data = pd.read_csv('training.csv', header=0, sep=',', index_col='RefId')"
   ]
  },
  {
   "cell_type": "code",
   "execution_count": 4,
   "metadata": {
    "collapsed": false
   },
   "outputs": [
    {
     "data": {
      "text/plain": [
       "(72983, 33)"
      ]
     },
     "execution_count": 4,
     "metadata": {},
     "output_type": "execute_result"
    }
   ],
   "source": [
    "data.shape"
   ]
  },
  {
   "cell_type": "code",
   "execution_count": 5,
   "metadata": {
    "collapsed": false,
    "scrolled": true
   },
   "outputs": [
    {
     "data": {
      "text/plain": [
       "IsBadBuy                                 0\n",
       "PurchDate                                0\n",
       "Auction                                  0\n",
       "VehYear                                  0\n",
       "VehicleAge                               0\n",
       "Make                                     0\n",
       "Model                                    0\n",
       "Trim                                  2360\n",
       "SubModel                                 8\n",
       "Color                                    8\n",
       "Transmission                             9\n",
       "WheelTypeID                           3169\n",
       "WheelType                             3174\n",
       "VehOdo                                   0\n",
       "Nationality                              5\n",
       "Size                                     5\n",
       "TopThreeAmericanName                     5\n",
       "MMRAcquisitionAuctionAveragePrice       18\n",
       "MMRAcquisitionAuctionCleanPrice         18\n",
       "MMRAcquisitionRetailAveragePrice        18\n",
       "MMRAcquisitonRetailCleanPrice           18\n",
       "MMRCurrentAuctionAveragePrice          315\n",
       "MMRCurrentAuctionCleanPrice            315\n",
       "MMRCurrentRetailAveragePrice           315\n",
       "MMRCurrentRetailCleanPrice             315\n",
       "PRIMEUNIT                            69564\n",
       "AUCGUART                             69564\n",
       "BYRNO                                    0\n",
       "VNZIP1                                   0\n",
       "VNST                                     0\n",
       "VehBCost                                 0\n",
       "IsOnlineSale                             0\n",
       "WarrantyCost                             0\n",
       "dtype: int64"
      ]
     },
     "execution_count": 5,
     "metadata": {},
     "output_type": "execute_result"
    }
   ],
   "source": [
    "data.isnull().sum()"
   ]
  },
  {
   "cell_type": "markdown",
   "metadata": {},
   "source": [
    "+ Obviously most of the data ( > 90%) in the two columns  PRIMEUNIT and  AUCGUART are missing. Nearly 50% data is missing in WheelTypeID and  WheelType.  Given the limited time, for the sake of simplicity. We remove these 4 columns.\n",
    "+ Common sense tells us that the target (IsBadGuy) might be related to the age of car, manuafaturing year, milages,etc. The Purchase data is not quite relevant compared to other features.  Given the limited time, for now we don't consider \"PurchDate\"\n",
    "+ VehYear, VehicleAge are strongly correlated. For now, we remove VehYear, only keep Age in our analysis firstly\n",
    "+ VNZIP1 are zipcodes, categorical. For the base model we don't consider it for now\n",
    "+ For other columns, we just drop the missing values."
   ]
  },
  {
   "cell_type": "code",
   "execution_count": 6,
   "metadata": {
    "collapsed": false
   },
   "outputs": [],
   "source": [
    "data.drop([\"PRIMEUNIT\",\"AUCGUART\",\"WheelTypeID\",\"WheelType\",'PurchDate','VehYear','VNZIP1'], axis=1, inplace=True)\n",
    "df= data.dropna()"
   ]
  },
  {
   "cell_type": "code",
   "execution_count": 7,
   "metadata": {
    "collapsed": false,
    "scrolled": false
   },
   "outputs": [
    {
     "data": {
      "text/plain": [
       "IsBadBuy                               int64\n",
       "Auction                               object\n",
       "VehicleAge                             int64\n",
       "Make                                  object\n",
       "Model                                 object\n",
       "Trim                                  object\n",
       "SubModel                              object\n",
       "Color                                 object\n",
       "Transmission                          object\n",
       "VehOdo                                 int64\n",
       "Nationality                           object\n",
       "Size                                  object\n",
       "TopThreeAmericanName                  object\n",
       "MMRAcquisitionAuctionAveragePrice    float64\n",
       "MMRAcquisitionAuctionCleanPrice      float64\n",
       "MMRAcquisitionRetailAveragePrice     float64\n",
       "MMRAcquisitonRetailCleanPrice        float64\n",
       "MMRCurrentAuctionAveragePrice        float64\n",
       "MMRCurrentAuctionCleanPrice          float64\n",
       "MMRCurrentRetailAveragePrice         float64\n",
       "MMRCurrentRetailCleanPrice           float64\n",
       "BYRNO                                  int64\n",
       "VNST                                  object\n",
       "VehBCost                             float64\n",
       "IsOnlineSale                           int64\n",
       "WarrantyCost                           int64\n",
       "dtype: object"
      ]
     },
     "execution_count": 7,
     "metadata": {},
     "output_type": "execute_result"
    }
   ],
   "source": [
    "df.dtypes"
   ]
  },
  {
   "cell_type": "code",
   "execution_count": 8,
   "metadata": {
    "collapsed": false,
    "scrolled": true
   },
   "outputs": [
    {
     "name": "stdout",
     "output_type": "stream",
     "text": [
      "['IsBadBuy', 'VehicleAge', 'VehOdo', 'MMRAcquisitionAuctionAveragePrice', 'MMRAcquisitionAuctionCleanPrice', 'MMRAcquisitionRetailAveragePrice', 'MMRAcquisitonRetailCleanPrice', 'MMRCurrentAuctionAveragePrice', 'MMRCurrentAuctionCleanPrice', 'MMRCurrentRetailAveragePrice', 'MMRCurrentRetailCleanPrice', 'BYRNO', 'VehBCost', 'IsOnlineSale', 'WarrantyCost']\n"
     ]
    }
   ],
   "source": [
    "#numeric features: 'IsBadBuy'is target,'IsOnlineSale'is binary,'VehicleAge' is integer\n",
    "var_num = [feature for feature in df.columns if df[feature].dtypes !='object']\n",
    "print (var_num) "
   ]
  },
  {
   "cell_type": "code",
   "execution_count": 9,
   "metadata": {
    "collapsed": false
   },
   "outputs": [
    {
     "name": "stdout",
     "output_type": "stream",
     "text": [
      "['Auction', 'Make', 'Model', 'Trim', 'SubModel', 'Color', 'Transmission', 'Nationality', 'Size', 'TopThreeAmericanName', 'VNST']\n"
     ]
    }
   ],
   "source": [
    "var_categorical = [feature for feature in data.columns if data[feature].dtypes == 'object']\n",
    "print(var_categorical)"
   ]
  },
  {
   "cell_type": "code",
   "execution_count": 10,
   "metadata": {
    "collapsed": true
   },
   "outputs": [],
   "source": [
    "def fill_missing(df,var_num,var_cat):\n",
    "#     for var in b_num:\n",
    "#         df[var].fillna(np.mean(df[var]), inplace=True)\n",
    "    df[var_num] = df[var_num].apply(lambda x: x.fillna(np.mean(x)))\n",
    "    df[var_cat] = df[var_cat].apply(lambda x: x.fillna(x.value_counts().index[0]))\n",
    "    return df        \n",
    "\n",
    "df = fill_missing(data, var_num, var_categorical)"
   ]
  },
  {
   "cell_type": "code",
   "execution_count": 11,
   "metadata": {
    "collapsed": false,
    "scrolled": true
   },
   "outputs": [
    {
     "data": {
      "text/plain": [
       "IsBadBuy                             0\n",
       "Auction                              0\n",
       "VehicleAge                           0\n",
       "Make                                 0\n",
       "Model                                0\n",
       "Trim                                 0\n",
       "SubModel                             0\n",
       "Color                                0\n",
       "Transmission                         0\n",
       "VehOdo                               0\n",
       "Nationality                          0\n",
       "Size                                 0\n",
       "TopThreeAmericanName                 0\n",
       "MMRAcquisitionAuctionAveragePrice    0\n",
       "MMRAcquisitionAuctionCleanPrice      0\n",
       "MMRAcquisitionRetailAveragePrice     0\n",
       "MMRAcquisitonRetailCleanPrice        0\n",
       "MMRCurrentAuctionAveragePrice        0\n",
       "MMRCurrentAuctionCleanPrice          0\n",
       "MMRCurrentRetailAveragePrice         0\n",
       "MMRCurrentRetailCleanPrice           0\n",
       "BYRNO                                0\n",
       "VNST                                 0\n",
       "VehBCost                             0\n",
       "IsOnlineSale                         0\n",
       "WarrantyCost                         0\n",
       "dtype: int64"
      ]
     },
     "execution_count": 11,
     "metadata": {},
     "output_type": "execute_result"
    }
   ],
   "source": [
    "# check if all missing values are gone\n",
    "df.isnull().sum()"
   ]
  },
  {
   "cell_type": "code",
   "execution_count": 12,
   "metadata": {
    "collapsed": false
   },
   "outputs": [
    {
     "data": {
      "text/plain": [
       "26"
      ]
     },
     "execution_count": 12,
     "metadata": {},
     "output_type": "execute_result"
    }
   ],
   "source": [
    "# all column names\n",
    "len(list(df.columns))"
   ]
  },
  {
   "cell_type": "code",
   "execution_count": 13,
   "metadata": {
    "collapsed": false
   },
   "outputs": [
    {
     "data": {
      "text/html": [
       "<div>\n",
       "<table border=\"1\" class=\"dataframe\">\n",
       "  <thead>\n",
       "    <tr style=\"text-align: right;\">\n",
       "      <th></th>\n",
       "      <th>IsBadBuy</th>\n",
       "      <th>Auction</th>\n",
       "      <th>VehicleAge</th>\n",
       "      <th>Make</th>\n",
       "      <th>Model</th>\n",
       "      <th>Trim</th>\n",
       "      <th>SubModel</th>\n",
       "      <th>Color</th>\n",
       "      <th>Transmission</th>\n",
       "      <th>VehOdo</th>\n",
       "      <th>...</th>\n",
       "      <th>MMRAcquisitonRetailCleanPrice</th>\n",
       "      <th>MMRCurrentAuctionAveragePrice</th>\n",
       "      <th>MMRCurrentAuctionCleanPrice</th>\n",
       "      <th>MMRCurrentRetailAveragePrice</th>\n",
       "      <th>MMRCurrentRetailCleanPrice</th>\n",
       "      <th>BYRNO</th>\n",
       "      <th>VNST</th>\n",
       "      <th>VehBCost</th>\n",
       "      <th>IsOnlineSale</th>\n",
       "      <th>WarrantyCost</th>\n",
       "    </tr>\n",
       "    <tr>\n",
       "      <th>RefId</th>\n",
       "      <th></th>\n",
       "      <th></th>\n",
       "      <th></th>\n",
       "      <th></th>\n",
       "      <th></th>\n",
       "      <th></th>\n",
       "      <th></th>\n",
       "      <th></th>\n",
       "      <th></th>\n",
       "      <th></th>\n",
       "      <th></th>\n",
       "      <th></th>\n",
       "      <th></th>\n",
       "      <th></th>\n",
       "      <th></th>\n",
       "      <th></th>\n",
       "      <th></th>\n",
       "      <th></th>\n",
       "      <th></th>\n",
       "      <th></th>\n",
       "      <th></th>\n",
       "    </tr>\n",
       "  </thead>\n",
       "  <tbody>\n",
       "    <tr>\n",
       "      <th>1</th>\n",
       "      <td>0</td>\n",
       "      <td>ADESA</td>\n",
       "      <td>3</td>\n",
       "      <td>MAZDA</td>\n",
       "      <td>MAZDA3</td>\n",
       "      <td>i</td>\n",
       "      <td>4D SEDAN I</td>\n",
       "      <td>RED</td>\n",
       "      <td>AUTO</td>\n",
       "      <td>89046</td>\n",
       "      <td>...</td>\n",
       "      <td>13600.0</td>\n",
       "      <td>7451.0</td>\n",
       "      <td>8552.0</td>\n",
       "      <td>11597.0</td>\n",
       "      <td>12409.0</td>\n",
       "      <td>21973</td>\n",
       "      <td>FL</td>\n",
       "      <td>7100.0</td>\n",
       "      <td>0</td>\n",
       "      <td>1113</td>\n",
       "    </tr>\n",
       "    <tr>\n",
       "      <th>2</th>\n",
       "      <td>0</td>\n",
       "      <td>ADESA</td>\n",
       "      <td>5</td>\n",
       "      <td>DODGE</td>\n",
       "      <td>1500 RAM PICKUP 2WD</td>\n",
       "      <td>ST</td>\n",
       "      <td>QUAD CAB 4.7L SLT</td>\n",
       "      <td>WHITE</td>\n",
       "      <td>AUTO</td>\n",
       "      <td>93593</td>\n",
       "      <td>...</td>\n",
       "      <td>12572.0</td>\n",
       "      <td>7456.0</td>\n",
       "      <td>9222.0</td>\n",
       "      <td>11374.0</td>\n",
       "      <td>12791.0</td>\n",
       "      <td>19638</td>\n",
       "      <td>FL</td>\n",
       "      <td>7600.0</td>\n",
       "      <td>0</td>\n",
       "      <td>1053</td>\n",
       "    </tr>\n",
       "    <tr>\n",
       "      <th>3</th>\n",
       "      <td>0</td>\n",
       "      <td>ADESA</td>\n",
       "      <td>4</td>\n",
       "      <td>DODGE</td>\n",
       "      <td>STRATUS V6</td>\n",
       "      <td>SXT</td>\n",
       "      <td>4D SEDAN SXT FFV</td>\n",
       "      <td>MAROON</td>\n",
       "      <td>AUTO</td>\n",
       "      <td>73807</td>\n",
       "      <td>...</td>\n",
       "      <td>8457.0</td>\n",
       "      <td>4035.0</td>\n",
       "      <td>5557.0</td>\n",
       "      <td>7146.0</td>\n",
       "      <td>8702.0</td>\n",
       "      <td>19638</td>\n",
       "      <td>FL</td>\n",
       "      <td>4900.0</td>\n",
       "      <td>0</td>\n",
       "      <td>1389</td>\n",
       "    </tr>\n",
       "    <tr>\n",
       "      <th>4</th>\n",
       "      <td>0</td>\n",
       "      <td>ADESA</td>\n",
       "      <td>5</td>\n",
       "      <td>DODGE</td>\n",
       "      <td>NEON</td>\n",
       "      <td>SXT</td>\n",
       "      <td>4D SEDAN</td>\n",
       "      <td>SILVER</td>\n",
       "      <td>AUTO</td>\n",
       "      <td>65617</td>\n",
       "      <td>...</td>\n",
       "      <td>5690.0</td>\n",
       "      <td>1844.0</td>\n",
       "      <td>2646.0</td>\n",
       "      <td>4375.0</td>\n",
       "      <td>5518.0</td>\n",
       "      <td>19638</td>\n",
       "      <td>FL</td>\n",
       "      <td>4100.0</td>\n",
       "      <td>0</td>\n",
       "      <td>630</td>\n",
       "    </tr>\n",
       "    <tr>\n",
       "      <th>5</th>\n",
       "      <td>0</td>\n",
       "      <td>ADESA</td>\n",
       "      <td>4</td>\n",
       "      <td>FORD</td>\n",
       "      <td>FOCUS</td>\n",
       "      <td>ZX3</td>\n",
       "      <td>2D COUPE ZX3</td>\n",
       "      <td>SILVER</td>\n",
       "      <td>MANUAL</td>\n",
       "      <td>69367</td>\n",
       "      <td>...</td>\n",
       "      <td>8707.0</td>\n",
       "      <td>3247.0</td>\n",
       "      <td>4384.0</td>\n",
       "      <td>6739.0</td>\n",
       "      <td>7911.0</td>\n",
       "      <td>19638</td>\n",
       "      <td>FL</td>\n",
       "      <td>4000.0</td>\n",
       "      <td>0</td>\n",
       "      <td>1020</td>\n",
       "    </tr>\n",
       "  </tbody>\n",
       "</table>\n",
       "<p>5 rows × 26 columns</p>\n",
       "</div>"
      ],
      "text/plain": [
       "       IsBadBuy Auction  VehicleAge   Make                Model Trim  \\\n",
       "RefId                                                                  \n",
       "1             0   ADESA           3  MAZDA               MAZDA3    i   \n",
       "2             0   ADESA           5  DODGE  1500 RAM PICKUP 2WD   ST   \n",
       "3             0   ADESA           4  DODGE           STRATUS V6  SXT   \n",
       "4             0   ADESA           5  DODGE                 NEON  SXT   \n",
       "5             0   ADESA           4   FORD                FOCUS  ZX3   \n",
       "\n",
       "                SubModel   Color Transmission  VehOdo      ...       \\\n",
       "RefId                                                      ...        \n",
       "1             4D SEDAN I     RED         AUTO   89046      ...        \n",
       "2      QUAD CAB 4.7L SLT   WHITE         AUTO   93593      ...        \n",
       "3       4D SEDAN SXT FFV  MAROON         AUTO   73807      ...        \n",
       "4               4D SEDAN  SILVER         AUTO   65617      ...        \n",
       "5           2D COUPE ZX3  SILVER       MANUAL   69367      ...        \n",
       "\n",
       "      MMRAcquisitonRetailCleanPrice MMRCurrentAuctionAveragePrice  \\\n",
       "RefId                                                               \n",
       "1                           13600.0                        7451.0   \n",
       "2                           12572.0                        7456.0   \n",
       "3                            8457.0                        4035.0   \n",
       "4                            5690.0                        1844.0   \n",
       "5                            8707.0                        3247.0   \n",
       "\n",
       "      MMRCurrentAuctionCleanPrice  MMRCurrentRetailAveragePrice  \\\n",
       "RefId                                                             \n",
       "1                          8552.0                       11597.0   \n",
       "2                          9222.0                       11374.0   \n",
       "3                          5557.0                        7146.0   \n",
       "4                          2646.0                        4375.0   \n",
       "5                          4384.0                        6739.0   \n",
       "\n",
       "       MMRCurrentRetailCleanPrice  BYRNO  VNST  VehBCost  IsOnlineSale  \\\n",
       "RefId                                                                    \n",
       "1                         12409.0  21973    FL    7100.0             0   \n",
       "2                         12791.0  19638    FL    7600.0             0   \n",
       "3                          8702.0  19638    FL    4900.0             0   \n",
       "4                          5518.0  19638    FL    4100.0             0   \n",
       "5                          7911.0  19638    FL    4000.0             0   \n",
       "\n",
       "       WarrantyCost  \n",
       "RefId                \n",
       "1              1113  \n",
       "2              1053  \n",
       "3              1389  \n",
       "4               630  \n",
       "5              1020  \n",
       "\n",
       "[5 rows x 26 columns]"
      ]
     },
     "execution_count": 13,
     "metadata": {},
     "output_type": "execute_result"
    }
   ],
   "source": [
    "df.head()"
   ]
  },
  {
   "cell_type": "code",
   "execution_count": 14,
   "metadata": {
    "collapsed": false
   },
   "outputs": [
    {
     "data": {
      "text/plain": [
       "0    64007\n",
       "1     8976\n",
       "Name: IsBadBuy, dtype: int64"
      ]
     },
     "execution_count": 14,
     "metadata": {},
     "output_type": "execute_result"
    }
   ],
   "source": [
    "df['IsBadBuy'].value_counts() # inbalanced data, we might need to be careful to evaluate model later"
   ]
  },
  {
   "cell_type": "markdown",
   "metadata": {},
   "source": [
    "+ ### <font color=blue>   Exploratory analysis for numerical columns"
   ]
  },
  {
   "cell_type": "code",
   "execution_count": 15,
   "metadata": {
    "collapsed": false,
    "scrolled": true
   },
   "outputs": [
    {
     "data": {
      "text/html": [
       "<div>\n",
       "<table border=\"1\" class=\"dataframe\">\n",
       "  <thead>\n",
       "    <tr style=\"text-align: right;\">\n",
       "      <th></th>\n",
       "      <th>IsBadBuy</th>\n",
       "      <th>VehicleAge</th>\n",
       "      <th>VehOdo</th>\n",
       "      <th>MMRAcquisitionAuctionAveragePrice</th>\n",
       "      <th>MMRAcquisitionAuctionCleanPrice</th>\n",
       "      <th>MMRAcquisitionRetailAveragePrice</th>\n",
       "      <th>MMRAcquisitonRetailCleanPrice</th>\n",
       "      <th>MMRCurrentAuctionAveragePrice</th>\n",
       "      <th>MMRCurrentAuctionCleanPrice</th>\n",
       "      <th>MMRCurrentRetailAveragePrice</th>\n",
       "      <th>MMRCurrentRetailCleanPrice</th>\n",
       "      <th>BYRNO</th>\n",
       "      <th>VehBCost</th>\n",
       "      <th>IsOnlineSale</th>\n",
       "      <th>WarrantyCost</th>\n",
       "    </tr>\n",
       "  </thead>\n",
       "  <tbody>\n",
       "    <tr>\n",
       "      <th>count</th>\n",
       "      <td>72983.000000</td>\n",
       "      <td>72983.000000</td>\n",
       "      <td>72983.000000</td>\n",
       "      <td>72983.000000</td>\n",
       "      <td>72983.000000</td>\n",
       "      <td>72983.000000</td>\n",
       "      <td>72983.000000</td>\n",
       "      <td>72983.000000</td>\n",
       "      <td>72983.000000</td>\n",
       "      <td>72983.000000</td>\n",
       "      <td>72983.000000</td>\n",
       "      <td>72983.000000</td>\n",
       "      <td>72983.000000</td>\n",
       "      <td>72983.000000</td>\n",
       "      <td>72983.000000</td>\n",
       "    </tr>\n",
       "    <tr>\n",
       "      <th>mean</th>\n",
       "      <td>0.122988</td>\n",
       "      <td>4.176644</td>\n",
       "      <td>71499.995917</td>\n",
       "      <td>6128.909217</td>\n",
       "      <td>7373.636031</td>\n",
       "      <td>8497.034332</td>\n",
       "      <td>9850.928240</td>\n",
       "      <td>6132.081287</td>\n",
       "      <td>7390.681827</td>\n",
       "      <td>8775.723331</td>\n",
       "      <td>10145.385314</td>\n",
       "      <td>26345.842155</td>\n",
       "      <td>6730.934326</td>\n",
       "      <td>0.025280</td>\n",
       "      <td>1276.580985</td>\n",
       "    </tr>\n",
       "    <tr>\n",
       "      <th>std</th>\n",
       "      <td>0.328425</td>\n",
       "      <td>1.712210</td>\n",
       "      <td>14578.913128</td>\n",
       "      <td>2461.689142</td>\n",
       "      <td>2722.156232</td>\n",
       "      <td>3155.896033</td>\n",
       "      <td>3385.371986</td>\n",
       "      <td>2429.308083</td>\n",
       "      <td>2680.445479</td>\n",
       "      <td>3084.025786</td>\n",
       "      <td>3303.102877</td>\n",
       "      <td>25717.351219</td>\n",
       "      <td>1767.846435</td>\n",
       "      <td>0.156975</td>\n",
       "      <td>598.846788</td>\n",
       "    </tr>\n",
       "    <tr>\n",
       "      <th>min</th>\n",
       "      <td>0.000000</td>\n",
       "      <td>0.000000</td>\n",
       "      <td>4825.000000</td>\n",
       "      <td>0.000000</td>\n",
       "      <td>0.000000</td>\n",
       "      <td>0.000000</td>\n",
       "      <td>0.000000</td>\n",
       "      <td>0.000000</td>\n",
       "      <td>0.000000</td>\n",
       "      <td>0.000000</td>\n",
       "      <td>0.000000</td>\n",
       "      <td>835.000000</td>\n",
       "      <td>1.000000</td>\n",
       "      <td>0.000000</td>\n",
       "      <td>462.000000</td>\n",
       "    </tr>\n",
       "    <tr>\n",
       "      <th>25%</th>\n",
       "      <td>0.000000</td>\n",
       "      <td>3.000000</td>\n",
       "      <td>61837.000000</td>\n",
       "      <td>4273.000000</td>\n",
       "      <td>5407.000000</td>\n",
       "      <td>6281.000000</td>\n",
       "      <td>7494.000000</td>\n",
       "      <td>4285.000000</td>\n",
       "      <td>5425.000000</td>\n",
       "      <td>6550.000000</td>\n",
       "      <td>7796.000000</td>\n",
       "      <td>17212.000000</td>\n",
       "      <td>5435.000000</td>\n",
       "      <td>0.000000</td>\n",
       "      <td>837.000000</td>\n",
       "    </tr>\n",
       "    <tr>\n",
       "      <th>50%</th>\n",
       "      <td>0.000000</td>\n",
       "      <td>4.000000</td>\n",
       "      <td>73361.000000</td>\n",
       "      <td>6098.000000</td>\n",
       "      <td>7305.000000</td>\n",
       "      <td>8446.000000</td>\n",
       "      <td>9790.000000</td>\n",
       "      <td>6076.000000</td>\n",
       "      <td>7328.000000</td>\n",
       "      <td>8753.000000</td>\n",
       "      <td>10114.000000</td>\n",
       "      <td>19662.000000</td>\n",
       "      <td>6700.000000</td>\n",
       "      <td>0.000000</td>\n",
       "      <td>1155.000000</td>\n",
       "    </tr>\n",
       "    <tr>\n",
       "      <th>75%</th>\n",
       "      <td>0.000000</td>\n",
       "      <td>5.000000</td>\n",
       "      <td>82436.000000</td>\n",
       "      <td>7765.000000</td>\n",
       "      <td>9021.000000</td>\n",
       "      <td>10650.000000</td>\n",
       "      <td>12088.000000</td>\n",
       "      <td>7732.000000</td>\n",
       "      <td>9006.000000</td>\n",
       "      <td>10897.000000</td>\n",
       "      <td>12308.000000</td>\n",
       "      <td>22808.000000</td>\n",
       "      <td>7900.000000</td>\n",
       "      <td>0.000000</td>\n",
       "      <td>1623.000000</td>\n",
       "    </tr>\n",
       "    <tr>\n",
       "      <th>max</th>\n",
       "      <td>1.000000</td>\n",
       "      <td>9.000000</td>\n",
       "      <td>115717.000000</td>\n",
       "      <td>35722.000000</td>\n",
       "      <td>36859.000000</td>\n",
       "      <td>39080.000000</td>\n",
       "      <td>41482.000000</td>\n",
       "      <td>35722.000000</td>\n",
       "      <td>36859.000000</td>\n",
       "      <td>39080.000000</td>\n",
       "      <td>41062.000000</td>\n",
       "      <td>99761.000000</td>\n",
       "      <td>45469.000000</td>\n",
       "      <td>1.000000</td>\n",
       "      <td>7498.000000</td>\n",
       "    </tr>\n",
       "  </tbody>\n",
       "</table>\n",
       "</div>"
      ],
      "text/plain": [
       "           IsBadBuy    VehicleAge         VehOdo  \\\n",
       "count  72983.000000  72983.000000   72983.000000   \n",
       "mean       0.122988      4.176644   71499.995917   \n",
       "std        0.328425      1.712210   14578.913128   \n",
       "min        0.000000      0.000000    4825.000000   \n",
       "25%        0.000000      3.000000   61837.000000   \n",
       "50%        0.000000      4.000000   73361.000000   \n",
       "75%        0.000000      5.000000   82436.000000   \n",
       "max        1.000000      9.000000  115717.000000   \n",
       "\n",
       "       MMRAcquisitionAuctionAveragePrice  MMRAcquisitionAuctionCleanPrice  \\\n",
       "count                       72983.000000                     72983.000000   \n",
       "mean                         6128.909217                      7373.636031   \n",
       "std                          2461.689142                      2722.156232   \n",
       "min                             0.000000                         0.000000   \n",
       "25%                          4273.000000                      5407.000000   \n",
       "50%                          6098.000000                      7305.000000   \n",
       "75%                          7765.000000                      9021.000000   \n",
       "max                         35722.000000                     36859.000000   \n",
       "\n",
       "       MMRAcquisitionRetailAveragePrice  MMRAcquisitonRetailCleanPrice  \\\n",
       "count                      72983.000000                   72983.000000   \n",
       "mean                        8497.034332                    9850.928240   \n",
       "std                         3155.896033                    3385.371986   \n",
       "min                            0.000000                       0.000000   \n",
       "25%                         6281.000000                    7494.000000   \n",
       "50%                         8446.000000                    9790.000000   \n",
       "75%                        10650.000000                   12088.000000   \n",
       "max                        39080.000000                   41482.000000   \n",
       "\n",
       "       MMRCurrentAuctionAveragePrice  MMRCurrentAuctionCleanPrice  \\\n",
       "count                   72983.000000                 72983.000000   \n",
       "mean                     6132.081287                  7390.681827   \n",
       "std                      2429.308083                  2680.445479   \n",
       "min                         0.000000                     0.000000   \n",
       "25%                      4285.000000                  5425.000000   \n",
       "50%                      6076.000000                  7328.000000   \n",
       "75%                      7732.000000                  9006.000000   \n",
       "max                     35722.000000                 36859.000000   \n",
       "\n",
       "       MMRCurrentRetailAveragePrice  MMRCurrentRetailCleanPrice         BYRNO  \\\n",
       "count                  72983.000000                72983.000000  72983.000000   \n",
       "mean                    8775.723331                10145.385314  26345.842155   \n",
       "std                     3084.025786                 3303.102877  25717.351219   \n",
       "min                        0.000000                    0.000000    835.000000   \n",
       "25%                     6550.000000                 7796.000000  17212.000000   \n",
       "50%                     8753.000000                10114.000000  19662.000000   \n",
       "75%                    10897.000000                12308.000000  22808.000000   \n",
       "max                    39080.000000                41062.000000  99761.000000   \n",
       "\n",
       "           VehBCost  IsOnlineSale  WarrantyCost  \n",
       "count  72983.000000  72983.000000  72983.000000  \n",
       "mean    6730.934326      0.025280   1276.580985  \n",
       "std     1767.846435      0.156975    598.846788  \n",
       "min        1.000000      0.000000    462.000000  \n",
       "25%     5435.000000      0.000000    837.000000  \n",
       "50%     6700.000000      0.000000   1155.000000  \n",
       "75%     7900.000000      0.000000   1623.000000  \n",
       "max    45469.000000      1.000000   7498.000000  "
      ]
     },
     "execution_count": 15,
     "metadata": {},
     "output_type": "execute_result"
    }
   ],
   "source": [
    "#take a look at the numerical columns\n",
    "df.describe()"
   ]
  },
  {
   "cell_type": "code",
   "execution_count": 16,
   "metadata": {
    "collapsed": false
   },
   "outputs": [
    {
     "data": {
      "text/plain": [
       "(array([1, 2, 3, 4, 5, 6, 7, 8]), <a list of 8 Text xticklabel objects>)"
      ]
     },
     "execution_count": 16,
     "metadata": {},
     "output_type": "execute_result"
    },
    {
     "data": {
      "image/png": "[encoded data removed]",
      "text/plain": [
       "<matplotlib.figure.Figure at 0x29c8d805320>"
      ]
     },
     "metadata": {},
     "output_type": "display_data"
    }
   ],
   "source": [
    "df.boxplot(['MMRAcquisitionAuctionAveragePrice', 'MMRAcquisitionAuctionCleanPrice', 'MMRAcquisitionRetailAveragePrice',\\\n",
    "            'MMRAcquisitonRetailCleanPrice', 'MMRCurrentAuctionAveragePrice', 'MMRCurrentAuctionCleanPrice', \\\n",
    "            'MMRCurrentRetailAveragePrice', 'MMRCurrentRetailCleanPrice'],figsize=(8,12))\n",
    "plt.xticks(rotation=90)"
   ]
  },
  {
   "cell_type": "code",
   "execution_count": 17,
   "metadata": {
    "collapsed": false
   },
   "outputs": [
    {
     "data": {
      "image/png": "[encoded data removed]",
      "text/plain": [
       "<matplotlib.figure.Figure at 0x29c8dbad7b8>"
      ]
     },
     "metadata": {},
     "output_type": "display_data"
    }
   ],
   "source": [
    "fig1=df.boxplot(['MMRAcquisitionAuctionAveragePrice', 'MMRAcquisitionAuctionCleanPrice', 'MMRAcquisitionRetailAveragePrice',\\\n",
    "            'MMRAcquisitonRetailCleanPrice', 'MMRCurrentAuctionAveragePrice', 'MMRCurrentAuctionCleanPrice', \\\n",
    "            'MMRCurrentRetailAveragePrice', 'MMRCurrentRetailCleanPrice'],by='IsBadBuy',figsize=(8,12))"
   ]
  },
  {
   "cell_type": "markdown",
   "metadata": {},
   "source": [
    "The boxplot at original scale indicates that there is slight correlation between the variables above and IsBadBuy. There are outliers on each of these 8 columns"
   ]
  },
  {
   "cell_type": "code",
   "execution_count": 18,
   "metadata": {
    "collapsed": false
   },
   "outputs": [
    {
     "data": {
      "image/png": "[encoded data removed]",
      "text/plain": [
       "<matplotlib.figure.Figure at 0x29c8f547b38>"
      ]
     },
     "metadata": {},
     "output_type": "display_data"
    }
   ],
   "source": [
    "fig2=df.boxplot(['VehicleAge'],by='IsBadBuy',figsize=(5,5)) # strongly relevant to IsBadBuy"
   ]
  },
  {
   "cell_type": "code",
   "execution_count": 19,
   "metadata": {
    "collapsed": false
   },
   "outputs": [
    {
     "data": {
      "image/png": "[encoded data removed]",
      "text/plain": [
       "<matplotlib.figure.Figure at 0x29c8efd1ac8>"
      ]
     },
     "metadata": {},
     "output_type": "display_data"
    }
   ],
   "source": [
    "fig3 = sn.boxplot(x='VehicleAge', y=\"MMRCurrentRetailAveragePrice\", hue=\"IsBadBuy\", data=df,palette=\"rainbow\");"
   ]
  },
  {
   "cell_type": "code",
   "execution_count": 20,
   "metadata": {
    "collapsed": false
   },
   "outputs": [
    {
     "data": {
      "image/png": "[encoded data removed]",
      "text/plain": [
       "<matplotlib.figure.Figure at 0x29c8f4e19b0>"
      ]
     },
     "metadata": {},
     "output_type": "display_data"
    }
   ],
   "source": [
    "fig4 = df.boxplot(['BYRNO','VehBCost', 'WarrantyCost'],by='IsBadBuy',figsize=(8,6))\n",
    "#outliers"
   ]
  },
  {
   "cell_type": "code",
   "execution_count": 21,
   "metadata": {
    "collapsed": false
   },
   "outputs": [
    {
     "data": {
      "image/png": "[encoded data removed]",
      "text/plain": [
       "<matplotlib.figure.Figure at 0x29c8ef349b0>"
      ]
     },
     "metadata": {},
     "output_type": "display_data"
    }
   ],
   "source": [
    "fig5 = sn.lmplot(x='VehOdo',y='WarrantyCost',data=df,fit_reg=False,hue='VehicleAge') "
   ]
  },
  {
   "cell_type": "code",
   "execution_count": 22,
   "metadata": {
    "collapsed": false,
    "scrolled": false
   },
   "outputs": [
    {
     "data": {
      "image/png": "[encoded data removed]",
      "text/plain": [
       "<matplotlib.figure.Figure at 0x29c91ff4588>"
      ]
     },
     "metadata": {},
     "output_type": "display_data"
    }
   ],
   "source": [
    "fig6 = sn.stripplot(x=\"IsBadBuy\", y='VehOdo', data=df, jitter=True); "
   ]
  },
  {
   "cell_type": "markdown",
   "metadata": {},
   "source": [
    "+ fig2 indicates ViehcleAge is strong related to IsBadBuy\n",
    "+ fig3 :\"MMRCurrentRetailAveragePrice\" distributed broader at lower 'VehicleAge'.\n",
    "+ fig4 indicates 'BYRNO','VehBCost', 'WarrantyCost' have outliers. Given the  75% quantile values are nearly one order less than the maximumn values. Perhaps they were system errors or those are just very expensive cars.\n",
    "+ fig 5 indicates generally the larger the VehOdo the higher the WanrantyCost. The older the viehcle, the more likely the VehOdo is higher\n",
    "+ fig6 indicates 'MMRCurrentRetailAveragePrice' pattern grouped by \"IsBadBuy\" are different"
   ]
  },
  {
   "cell_type": "markdown",
   "metadata": {},
   "source": [
    " + ### <font color=blue>   Exploratory analysis for categorical columns"
   ]
  },
  {
   "cell_type": "code",
   "execution_count": 23,
   "metadata": {
    "collapsed": false
   },
   "outputs": [
    {
     "name": "stdout",
     "output_type": "stream",
     "text": [
      "Auction 3\n",
      "Make 33\n",
      "Model 1063\n",
      "Trim 134\n",
      "SubModel 863\n",
      "Color 16\n",
      "Transmission 3\n",
      "Nationality 4\n",
      "Size 12\n",
      "TopThreeAmericanName 4\n",
      "VNST 37\n"
     ]
    }
   ],
   "source": [
    "#check how many levels in each categorical variable\n",
    "for col in var_categorical:\n",
    "    print (col,len(df[col].unique()))"
   ]
  },
  {
   "cell_type": "code",
   "execution_count": 24,
   "metadata": {
    "collapsed": false,
    "scrolled": true
   },
   "outputs": [
    {
     "data": {
      "text/plain": [
       "MEDIUM         30790\n",
       "LARGE           8850\n",
       "MEDIUM SUV      8090\n",
       "COMPACT         7205\n",
       "VAN             5854\n",
       "LARGE TRUCK     3170\n",
       "SMALL SUV       2276\n",
       "SPECIALTY       1915\n",
       "CROSSOVER       1759\n",
       "LARGE SUV       1433\n",
       "SMALL TRUCK      864\n",
       "SPORTS           777\n",
       "Name: Size, dtype: int64"
      ]
     },
     "execution_count": 24,
     "metadata": {},
     "output_type": "execute_result"
    }
   ],
   "source": [
    "df['Size'].value_counts()"
   ]
  },
  {
   "cell_type": "markdown",
   "metadata": {},
   "source": [
    "For simplicity, let's just not consider those with large levels of variables, because they would consume some time to implement. So we just focus on the variables with # of levels < 10: \n",
    "\n",
    "\"Auction\",\"Transmission\",\"Nationality\", \"TopThreeAmericanName\""
   ]
  },
  {
   "cell_type": "code",
   "execution_count": 25,
   "metadata": {
    "collapsed": true
   },
   "outputs": [],
   "source": [
    "cat = [\"Auction\",\"Transmission\",\"Nationality\", \"TopThreeAmericanName\"]\n",
    "integer = ['IsBadBuy','IsOnlineSale','VehicleAge']\n",
    "#list(set(var_num)-set(integer))\n",
    "numeric = [x for x in var_num if x not in integer] # large numeric values"
   ]
  },
  {
   "cell_type": "code",
   "execution_count": 26,
   "metadata": {
    "collapsed": false,
    "scrolled": true
   },
   "outputs": [
    {
     "data": {
      "image/png": "[encoded data removed]",
      "text/plain": [
       "<matplotlib.figure.Figure at 0x29c9210a320>"
      ]
     },
     "metadata": {},
     "output_type": "display_data"
    }
   ],
   "source": [
    "fig7 = sn.factorplot(\"IsBadBuy\",data=df, hue=\"IsOnlineSale\",kind='count', palette=\"rainbow\",size=3,aspect=2)"
   ]
  },
  {
   "cell_type": "code",
   "execution_count": 27,
   "metadata": {
    "collapsed": false
   },
   "outputs": [
    {
     "data": {
      "image/png": "[encoded data removed]",
      "text/plain": [
       "<matplotlib.figure.Figure at 0x29c921c5c50>"
      ]
     },
     "metadata": {},
     "output_type": "display_data"
    }
   ],
   "source": [
    "fig8 = sn.factorplot('IsBadBuy',hue='VehicleAge',kind='count',data=df,palette=\"rainbow\") # More 3-4 year cars at IsBadBuy=0 group"
   ]
  },
  {
   "cell_type": "code",
   "execution_count": 28,
   "metadata": {
    "collapsed": false,
    "scrolled": true
   },
   "outputs": [
    {
     "data": {
      "image/png": "[encoded data removed]",
      "text/plain": [
       "<matplotlib.figure.Figure at 0x29c921e7898>"
      ]
     },
     "metadata": {},
     "output_type": "display_data"
    }
   ],
   "source": [
    "fig9 = sn.factorplot('Auction',hue='IsBadBuy',kind='count',data=df,palette=\"Set2\") # The percentage IsBadBuy among each auction varies"
   ]
  },
  {
   "cell_type": "code",
   "execution_count": 29,
   "metadata": {
    "collapsed": false
   },
   "outputs": [
    {
     "data": {
      "image/png": "[encoded data removed]",
      "text/plain": [
       "<matplotlib.figure.Figure at 0x29c9227e438>"
      ]
     },
     "metadata": {},
     "output_type": "display_data"
    }
   ],
   "source": [
    "fig10 = sn.factorplot('IsBadBuy',hue='TopThreeAmericanName',kind='count',data=df,palette=\"Set2\")"
   ]
  },
  {
   "cell_type": "code",
   "execution_count": 30,
   "metadata": {
    "collapsed": false
   },
   "outputs": [
    {
     "data": {
      "image/png": "[encoded data removed]",
      "text/plain": [
       "<matplotlib.figure.Figure at 0x29c925ae550>"
      ]
     },
     "metadata": {},
     "output_type": "display_data"
    }
   ],
   "source": [
    "d1=pd.crosstab(index=df.TopThreeAmericanName,columns=df.VehicleAge, margins=False)\n",
    "plt.figure(figsize=(6,5))\n",
    "fig11=sn.heatmap(d1,linewidth=0.1)"
   ]
  },
  {
   "cell_type": "markdown",
   "metadata": {},
   "source": [
    "fig7 to fig11 indicate the possible relation between the Target and the varaibles. Also TopThreeAmericanName cross VehicleAge shows that majority cars are between 2-5 years and belong to GM and CHRYSLER."
   ]
  },
  {
   "cell_type": "markdown",
   "metadata": {},
   "source": [
    "  ###  Prepare data for logistic Regression"
   ]
  },
  {
   "cell_type": "markdown",
   "metadata": {},
   "source": [
    "Scale the huge numerical values"
   ]
  },
  {
   "cell_type": "markdown",
   "metadata": {},
   "source": [
    "cat = [\"Auction\",\"Transmission\",\"Nationality\", \"TopThreeAmericanName\"] <br>\n",
    "integer = ['IsBadBuy','IsOnlineSale','VehicleAge'] <br>\n",
    "numeric = [x for x in var_num if x not in integer] # large numeric values <br>"
   ]
  },
  {
   "cell_type": "code",
   "execution_count": 31,
   "metadata": {
    "collapsed": false
   },
   "outputs": [],
   "source": [
    "#include all those features in the model\n",
    "var_all = integer + numeric + cat\n",
    "\n",
    "df1=df[var_all]"
   ]
  },
  {
   "cell_type": "code",
   "execution_count": 32,
   "metadata": {
    "collapsed": false,
    "scrolled": true
   },
   "outputs": [],
   "source": [
    "cols_scale= numeric # all the numeric columns need to be scaled"
   ]
  },
  {
   "cell_type": "code",
   "execution_count": 33,
   "metadata": {
    "collapsed": false
   },
   "outputs": [
    {
     "name": "stderr",
     "output_type": "stream",
     "text": [
      "C:\\ProgramData\\Miniconda3\\lib\\site-packages\\pandas\\core\\frame.py:2440: SettingWithCopyWarning: \n",
      "A value is trying to be set on a copy of a slice from a DataFrame.\n",
      "Try using .loc[row_indexer,col_indexer] = value instead\n",
      "\n",
      "See the caveats in the documentation: http://pandas.pydata.org/pandas-docs/stable/indexing.html#indexing-view-versus-copy\n",
      "  self[k1] = value[k2]\n"
     ]
    }
   ],
   "source": [
    "#do log transformation for the large numeric features\n",
    "def scale_large(df, cols):\n",
    "    #cols is the list of features columns with large numbers to be scaled\n",
    "    df[cols]=df[cols].apply(lambda x : np.log(x + 1))# +1 to avoid infinity\n",
    "    return df\n",
    "df_scale = scale_large(df1, cols_scale)"
   ]
  },
  {
   "cell_type": "code",
   "execution_count": 34,
   "metadata": {
    "collapsed": false
   },
   "outputs": [],
   "source": [
    "#print(cat,'\\n',var_num)"
   ]
  },
  {
   "cell_type": "code",
   "execution_count": 35,
   "metadata": {
    "collapsed": false
   },
   "outputs": [
    {
     "data": {
      "text/plain": [
       "Index(['IsBadBuy', 'IsOnlineSale', 'VehicleAge', 'VehOdo',\n",
       "       'MMRAcquisitionAuctionAveragePrice', 'MMRAcquisitionAuctionCleanPrice',\n",
       "       'MMRAcquisitionRetailAveragePrice', 'MMRAcquisitonRetailCleanPrice',\n",
       "       'MMRCurrentAuctionAveragePrice', 'MMRCurrentAuctionCleanPrice',\n",
       "       'MMRCurrentRetailAveragePrice', 'MMRCurrentRetailCleanPrice', 'BYRNO',\n",
       "       'VehBCost', 'WarrantyCost', 'Auction', 'Transmission', 'Nationality',\n",
       "       'TopThreeAmericanName'],\n",
       "      dtype='object')"
      ]
     },
     "execution_count": 35,
     "metadata": {},
     "output_type": "execute_result"
    }
   ],
   "source": [
    "df_scale.columns"
   ]
  },
  {
   "cell_type": "markdown",
   "metadata": {},
   "source": [
    " ** Looks like Transmission has some issues bue to a type in the data **"
   ]
  },
  {
   "cell_type": "code",
   "execution_count": 36,
   "metadata": {
    "collapsed": false,
    "scrolled": true
   },
   "outputs": [
    {
     "data": {
      "text/plain": [
       "AUTO      70407\n",
       "MANUAL     2575\n",
       "Manual        1\n",
       "Name: Transmission, dtype: int64"
      ]
     },
     "execution_count": 36,
     "metadata": {},
     "output_type": "execute_result"
    }
   ],
   "source": [
    "df_scale['Transmission'].value_counts()# here Mannual needs to be fixed"
   ]
  },
  {
   "cell_type": "code",
   "execution_count": 37,
   "metadata": {
    "collapsed": false,
    "scrolled": true
   },
   "outputs": [
    {
     "data": {
      "text/html": [
       "<div>\n",
       "<table border=\"1\" class=\"dataframe\">\n",
       "  <thead>\n",
       "    <tr style=\"text-align: right;\">\n",
       "      <th></th>\n",
       "      <th>Transmission</th>\n",
       "    </tr>\n",
       "    <tr>\n",
       "      <th>RefId</th>\n",
       "      <th></th>\n",
       "    </tr>\n",
       "  </thead>\n",
       "  <tbody>\n",
       "    <tr>\n",
       "      <th>33118</th>\n",
       "      <td>Manual</td>\n",
       "    </tr>\n",
       "  </tbody>\n",
       "</table>\n",
       "</div>"
      ],
      "text/plain": [
       "      Transmission\n",
       "RefId             \n",
       "33118       Manual"
      ]
     },
     "execution_count": 37,
     "metadata": {},
     "output_type": "execute_result"
    }
   ],
   "source": [
    "#Let's look at which row\n",
    "typo_index=df_scale[df_scale['Transmission'] =='Manual'].index\n",
    "df_scale.loc[typo_index,['Transmission']]"
   ]
  },
  {
   "cell_type": "code",
   "execution_count": 38,
   "metadata": {
    "collapsed": false
   },
   "outputs": [
    {
     "name": "stderr",
     "output_type": "stream",
     "text": [
      "C:\\ProgramData\\Miniconda3\\lib\\site-packages\\pandas\\core\\indexing.py:477: SettingWithCopyWarning: \n",
      "A value is trying to be set on a copy of a slice from a DataFrame.\n",
      "Try using .loc[row_indexer,col_indexer] = value instead\n",
      "\n",
      "See the caveats in the documentation: http://pandas.pydata.org/pandas-docs/stable/indexing.html#indexing-view-versus-copy\n",
      "  self.obj[item] = s\n"
     ]
    }
   ],
   "source": [
    "df_scale.loc[typo_index,'Transmission'] = 'MANUAL'\n",
    "#df_new['Transmission']=df_new['Transmission'].replace(to_replace=['Manual'],value='MANUAL')"
   ]
  },
  {
   "cell_type": "code",
   "execution_count": 39,
   "metadata": {
    "collapsed": false
   },
   "outputs": [
    {
     "data": {
      "text/plain": [
       "AUTO      70407\n",
       "MANUAL     2576\n",
       "Name: Transmission, dtype: int64"
      ]
     },
     "execution_count": 39,
     "metadata": {},
     "output_type": "execute_result"
    }
   ],
   "source": [
    "df_scale.Transmission.value_counts()#Now it's good"
   ]
  },
  {
   "cell_type": "code",
   "execution_count": 40,
   "metadata": {
    "collapsed": false
   },
   "outputs": [],
   "source": [
    "# get dummies for categorical variables\n",
    "df_new = pd.get_dummies(df_scale,columns=cat)"
   ]
  },
  {
   "cell_type": "code",
   "execution_count": 41,
   "metadata": {
    "collapsed": false,
    "scrolled": true
   },
   "outputs": [
    {
     "data": {
      "text/html": [
       "<div>\n",
       "<table border=\"1\" class=\"dataframe\">\n",
       "  <thead>\n",
       "    <tr style=\"text-align: right;\">\n",
       "      <th></th>\n",
       "      <th>IsBadBuy</th>\n",
       "      <th>IsOnlineSale</th>\n",
       "      <th>VehicleAge</th>\n",
       "      <th>VehOdo</th>\n",
       "      <th>MMRAcquisitionAuctionAveragePrice</th>\n",
       "      <th>MMRAcquisitionAuctionCleanPrice</th>\n",
       "      <th>MMRAcquisitionRetailAveragePrice</th>\n",
       "      <th>MMRAcquisitonRetailCleanPrice</th>\n",
       "      <th>MMRCurrentAuctionAveragePrice</th>\n",
       "      <th>MMRCurrentAuctionCleanPrice</th>\n",
       "      <th>...</th>\n",
       "      <th>Transmission_AUTO</th>\n",
       "      <th>Transmission_MANUAL</th>\n",
       "      <th>Nationality_AMERICAN</th>\n",
       "      <th>Nationality_OTHER</th>\n",
       "      <th>Nationality_OTHER ASIAN</th>\n",
       "      <th>Nationality_TOP LINE ASIAN</th>\n",
       "      <th>TopThreeAmericanName_CHRYSLER</th>\n",
       "      <th>TopThreeAmericanName_FORD</th>\n",
       "      <th>TopThreeAmericanName_GM</th>\n",
       "      <th>TopThreeAmericanName_OTHER</th>\n",
       "    </tr>\n",
       "    <tr>\n",
       "      <th>RefId</th>\n",
       "      <th></th>\n",
       "      <th></th>\n",
       "      <th></th>\n",
       "      <th></th>\n",
       "      <th></th>\n",
       "      <th></th>\n",
       "      <th></th>\n",
       "      <th></th>\n",
       "      <th></th>\n",
       "      <th></th>\n",
       "      <th></th>\n",
       "      <th></th>\n",
       "      <th></th>\n",
       "      <th></th>\n",
       "      <th></th>\n",
       "      <th></th>\n",
       "      <th></th>\n",
       "      <th></th>\n",
       "      <th></th>\n",
       "      <th></th>\n",
       "      <th></th>\n",
       "    </tr>\n",
       "  </thead>\n",
       "  <tbody>\n",
       "    <tr>\n",
       "      <th>1</th>\n",
       "      <td>0</td>\n",
       "      <td>0</td>\n",
       "      <td>3</td>\n",
       "      <td>11.396920</td>\n",
       "      <td>9.006509</td>\n",
       "      <td>9.193194</td>\n",
       "      <td>9.361945</td>\n",
       "      <td>9.517899</td>\n",
       "      <td>8.916238</td>\n",
       "      <td>9.054037</td>\n",
       "      <td>...</td>\n",
       "      <td>1</td>\n",
       "      <td>0</td>\n",
       "      <td>0</td>\n",
       "      <td>0</td>\n",
       "      <td>1</td>\n",
       "      <td>0</td>\n",
       "      <td>0</td>\n",
       "      <td>0</td>\n",
       "      <td>0</td>\n",
       "      <td>1</td>\n",
       "    </tr>\n",
       "    <tr>\n",
       "      <th>2</th>\n",
       "      <td>0</td>\n",
       "      <td>0</td>\n",
       "      <td>5</td>\n",
       "      <td>11.446722</td>\n",
       "      <td>8.832734</td>\n",
       "      <td>9.034080</td>\n",
       "      <td>9.296335</td>\n",
       "      <td>9.439307</td>\n",
       "      <td>8.916908</td>\n",
       "      <td>9.129456</td>\n",
       "      <td>...</td>\n",
       "      <td>1</td>\n",
       "      <td>0</td>\n",
       "      <td>1</td>\n",
       "      <td>0</td>\n",
       "      <td>0</td>\n",
       "      <td>0</td>\n",
       "      <td>1</td>\n",
       "      <td>0</td>\n",
       "      <td>0</td>\n",
       "      <td>0</td>\n",
       "    </tr>\n",
       "    <tr>\n",
       "      <th>3</th>\n",
       "      <td>0</td>\n",
       "      <td>0</td>\n",
       "      <td>4</td>\n",
       "      <td>11.209222</td>\n",
       "      <td>8.071843</td>\n",
       "      <td>8.468213</td>\n",
       "      <td>8.845633</td>\n",
       "      <td>9.042868</td>\n",
       "      <td>8.303009</td>\n",
       "      <td>8.622994</td>\n",
       "      <td>...</td>\n",
       "      <td>1</td>\n",
       "      <td>0</td>\n",
       "      <td>1</td>\n",
       "      <td>0</td>\n",
       "      <td>0</td>\n",
       "      <td>0</td>\n",
       "      <td>1</td>\n",
       "      <td>0</td>\n",
       "      <td>0</td>\n",
       "      <td>0</td>\n",
       "    </tr>\n",
       "    <tr>\n",
       "      <th>4</th>\n",
       "      <td>0</td>\n",
       "      <td>0</td>\n",
       "      <td>5</td>\n",
       "      <td>11.091605</td>\n",
       "      <td>7.546446</td>\n",
       "      <td>7.892078</td>\n",
       "      <td>8.446556</td>\n",
       "      <td>8.646641</td>\n",
       "      <td>7.520235</td>\n",
       "      <td>7.881182</td>\n",
       "      <td>...</td>\n",
       "      <td>1</td>\n",
       "      <td>0</td>\n",
       "      <td>1</td>\n",
       "      <td>0</td>\n",
       "      <td>0</td>\n",
       "      <td>0</td>\n",
       "      <td>1</td>\n",
       "      <td>0</td>\n",
       "      <td>0</td>\n",
       "      <td>0</td>\n",
       "    </tr>\n",
       "    <tr>\n",
       "      <th>5</th>\n",
       "      <td>0</td>\n",
       "      <td>0</td>\n",
       "      <td>4</td>\n",
       "      <td>11.147181</td>\n",
       "      <td>8.272315</td>\n",
       "      <td>8.528133</td>\n",
       "      <td>8.952088</td>\n",
       "      <td>9.071997</td>\n",
       "      <td>8.085795</td>\n",
       "      <td>8.385945</td>\n",
       "      <td>...</td>\n",
       "      <td>0</td>\n",
       "      <td>1</td>\n",
       "      <td>1</td>\n",
       "      <td>0</td>\n",
       "      <td>0</td>\n",
       "      <td>0</td>\n",
       "      <td>0</td>\n",
       "      <td>1</td>\n",
       "      <td>0</td>\n",
       "      <td>0</td>\n",
       "    </tr>\n",
       "  </tbody>\n",
       "</table>\n",
       "<p>5 rows × 28 columns</p>\n",
       "</div>"
      ],
      "text/plain": [
       "       IsBadBuy  IsOnlineSale  VehicleAge     VehOdo  \\\n",
       "RefId                                                  \n",
       "1             0             0           3  11.396920   \n",
       "2             0             0           5  11.446722   \n",
       "3             0             0           4  11.209222   \n",
       "4             0             0           5  11.091605   \n",
       "5             0             0           4  11.147181   \n",
       "\n",
       "       MMRAcquisitionAuctionAveragePrice  MMRAcquisitionAuctionCleanPrice  \\\n",
       "RefId                                                                       \n",
       "1                               9.006509                         9.193194   \n",
       "2                               8.832734                         9.034080   \n",
       "3                               8.071843                         8.468213   \n",
       "4                               7.546446                         7.892078   \n",
       "5                               8.272315                         8.528133   \n",
       "\n",
       "       MMRAcquisitionRetailAveragePrice  MMRAcquisitonRetailCleanPrice  \\\n",
       "RefId                                                                    \n",
       "1                              9.361945                       9.517899   \n",
       "2                              9.296335                       9.439307   \n",
       "3                              8.845633                       9.042868   \n",
       "4                              8.446556                       8.646641   \n",
       "5                              8.952088                       9.071997   \n",
       "\n",
       "       MMRCurrentAuctionAveragePrice  MMRCurrentAuctionCleanPrice  \\\n",
       "RefId                                                               \n",
       "1                           8.916238                     9.054037   \n",
       "2                           8.916908                     9.129456   \n",
       "3                           8.303009                     8.622994   \n",
       "4                           7.520235                     7.881182   \n",
       "5                           8.085795                     8.385945   \n",
       "\n",
       "                  ...              Transmission_AUTO  Transmission_MANUAL  \\\n",
       "RefId             ...                                                       \n",
       "1                 ...                              1                    0   \n",
       "2                 ...                              1                    0   \n",
       "3                 ...                              1                    0   \n",
       "4                 ...                              1                    0   \n",
       "5                 ...                              0                    1   \n",
       "\n",
       "       Nationality_AMERICAN  Nationality_OTHER  Nationality_OTHER ASIAN  \\\n",
       "RefId                                                                     \n",
       "1                         0                  0                        1   \n",
       "2                         1                  0                        0   \n",
       "3                         1                  0                        0   \n",
       "4                         1                  0                        0   \n",
       "5                         1                  0                        0   \n",
       "\n",
       "       Nationality_TOP LINE ASIAN  TopThreeAmericanName_CHRYSLER  \\\n",
       "RefId                                                              \n",
       "1                               0                              0   \n",
       "2                               0                              1   \n",
       "3                               0                              1   \n",
       "4                               0                              1   \n",
       "5                               0                              0   \n",
       "\n",
       "       TopThreeAmericanName_FORD  TopThreeAmericanName_GM  \\\n",
       "RefId                                                       \n",
       "1                              0                        0   \n",
       "2                              0                        0   \n",
       "3                              0                        0   \n",
       "4                              0                        0   \n",
       "5                              1                        0   \n",
       "\n",
       "       TopThreeAmericanName_OTHER  \n",
       "RefId                              \n",
       "1                               1  \n",
       "2                               0  \n",
       "3                               0  \n",
       "4                               0  \n",
       "5                               0  \n",
       "\n",
       "[5 rows x 28 columns]"
      ]
     },
     "execution_count": 41,
     "metadata": {},
     "output_type": "execute_result"
    }
   ],
   "source": [
    "df_new.head()"
   ]
  },
  {
   "cell_type": "code",
   "execution_count": 42,
   "metadata": {
    "collapsed": true
   },
   "outputs": [],
   "source": [
    "#df_new.to_csv(\"df_new.csv\",header=True, sep=',')"
   ]
  },
  {
   "cell_type": "markdown",
   "metadata": {},
   "source": [
    " ###   logistic Regression Model"
   ]
  },
  {
   "cell_type": "code",
   "execution_count": 43,
   "metadata": {
    "collapsed": false
   },
   "outputs": [],
   "source": [
    "#split X and Y\n",
    "Y = df_new.iloc[:,0]\n",
    "X = df_new.iloc[:,1:]\n",
    "#X.dtypes"
   ]
  },
  {
   "cell_type": "code",
   "execution_count": 44,
   "metadata": {
    "collapsed": false
   },
   "outputs": [],
   "source": [
    "# from sklearn.linear_model import LogisticRegression\n",
    "# from sklearn.linear_model import LogisticRegressionCV\n",
    "# from sklearn.utils import shuffle\n",
    "# from sklearn.model_selection import train_test_split\n",
    "# from sklearn import metrics"
   ]
  },
  {
   "cell_type": "code",
   "execution_count": 45,
   "metadata": {
    "collapsed": false
   },
   "outputs": [
    {
     "data": {
      "text/plain": [
       "LogisticRegression(C=1.0, class_weight=None, dual=False, fit_intercept=True,\n",
       "          intercept_scaling=1, max_iter=100, multi_class='ovr', n_jobs=1,\n",
       "          penalty='l2', random_state=None, solver='liblinear', tol=0.0001,\n",
       "          verbose=0, warm_start=False)"
      ]
     },
     "execution_count": 45,
     "metadata": {},
     "output_type": "execute_result"
    }
   ],
   "source": [
    "# apply logistic regression with L2 penaty\n",
    "model=LogisticRegression()\n",
    "model.fit(X,Y)"
   ]
  },
  {
   "cell_type": "code",
   "execution_count": 46,
   "metadata": {
    "collapsed": false,
    "scrolled": true
   },
   "outputs": [
    {
     "data": {
      "text/plain": [
       "0.8769850513133195"
      ]
     },
     "execution_count": 46,
     "metadata": {},
     "output_type": "execute_result"
    }
   ],
   "source": [
    "model.score(X,Y)#check accuracy on training set"
   ]
  },
  {
   "cell_type": "code",
   "execution_count": 47,
   "metadata": {
    "collapsed": false
   },
   "outputs": [
    {
     "data": {
      "text/plain": [
       "0.12298754504473644"
      ]
     },
     "execution_count": 47,
     "metadata": {},
     "output_type": "execute_result"
    }
   ],
   "source": [
    "Y.mean()"
   ]
  },
  {
   "cell_type": "markdown",
   "metadata": {
    "collapsed": true
   },
   "source": [
    "<font color=green> Y.mean = 0.122, which means we can get 87.8% accuracy by just guessing 0 for all observations. That is exactly the training data accuracy. Basically our model ~ guessing all outcome IsBadBuy=0 <br>\n",
    "** We need to balance the data for 0 and 1 outcomes using resampling**"
   ]
  },
  {
   "cell_type": "code",
   "execution_count": 48,
   "metadata": {
    "collapsed": false
   },
   "outputs": [
    {
     "data": {
      "text/plain": [
       "0    64007\n",
       "1     8976\n",
       "Name: IsBadBuy, dtype: int64"
      ]
     },
     "execution_count": 48,
     "metadata": {},
     "output_type": "execute_result"
    }
   ],
   "source": [
    "df_new['IsBadBuy'].value_counts()"
   ]
  },
  {
   "cell_type": "code",
   "execution_count": 49,
   "metadata": {
    "collapsed": true
   },
   "outputs": [],
   "source": [
    "# define bootstrap and shuffle for the \"1\" class\n",
    "def resample(df):\n",
    "    df0 = df[df['IsBadBuy'] ==0]# 61731 rows\n",
    "    df1 = df[df['IsBadBuy'] ==1]# 8570 rows\n",
    "    n_obs = df0.shape[0] # we will resample to get ~61700 samples\n",
    "    n = df1.shape[0] #originla sample length\n",
    "    \n",
    "    # bootstrap from 1 class\n",
    "    df1_bs = df1.sample(n_obs,replace=True, random_state = 11)\n",
    "\n",
    "    #df1_bs.shape\n",
    "    #contatinate df0 and df1_bs\n",
    "    df_all = pd.concat([df0,df1_bs],ignore_index = True)\n",
    "\n",
    "    return shuffle(df_all)\n",
    "    \n",
    "\n",
    "df_all = resample(df_new)"
   ]
  },
  {
   "cell_type": "code",
   "execution_count": 50,
   "metadata": {
    "collapsed": false,
    "scrolled": false
   },
   "outputs": [
    {
     "data": {
      "text/plain": [
       "1    64007\n",
       "0    64007\n",
       "Name: IsBadBuy, dtype: int64"
      ]
     },
     "execution_count": 50,
     "metadata": {},
     "output_type": "execute_result"
    }
   ],
   "source": [
    "df_all.shape\n",
    "df_all['IsBadBuy'].value_counts()"
   ]
  },
  {
   "cell_type": "code",
   "execution_count": 51,
   "metadata": {
    "collapsed": false
   },
   "outputs": [],
   "source": [
    "X, Y = df_all.iloc[:,1:],df_all.iloc[:,0]\n",
    "xtrain,xtest,ytrain,ytest = train_test_split(X, Y, test_size = 0.3)"
   ]
  },
  {
   "cell_type": "markdown",
   "metadata": {},
   "source": [
    "** <font color=green> Apply Logistic Regression on training and testing sets and use 5-fold cross validation**"
   ]
  },
  {
   "cell_type": "code",
   "execution_count": 52,
   "metadata": {
    "collapsed": false
   },
   "outputs": [],
   "source": [
    "clf = LogisticRegressionCV(cv=5 ,penalty='l2'\n",
    "    ,scoring='roc_auc', max_iter=100)\n",
    "clf = clf.fit(xtrain, ytrain)"
   ]
  },
  {
   "cell_type": "code",
   "execution_count": 53,
   "metadata": {
    "collapsed": false
   },
   "outputs": [
    {
     "name": "stdout",
     "output_type": "stream",
     "text": [
      "AUC of training set: 0.666630936638\n"
     ]
    }
   ],
   "source": [
    "predicted = clf.predict_proba(xtrain)[:,1]\n",
    "\n",
    "print('AUC of training set:',metrics.roc_auc_score(ytrain, predicted)) "
   ]
  },
  {
   "cell_type": "code",
   "execution_count": 54,
   "metadata": {
    "collapsed": false
   },
   "outputs": [
    {
     "name": "stdout",
     "output_type": "stream",
     "text": [
      "testing accuracy:  0.619242286161\n"
     ]
    }
   ],
   "source": [
    "print (\"testing accuracy: \",metrics.accuracy_score(ytest, clf.predict(xtest)) )"
   ]
  },
  {
   "cell_type": "code",
   "execution_count": 55,
   "metadata": {
    "collapsed": false,
    "scrolled": true
   },
   "outputs": [
    {
     "name": "stdout",
     "output_type": "stream",
     "text": [
      "AUC of testing set: 0.664083828653\n"
     ]
    }
   ],
   "source": [
    "y_pred = clf.predict_proba(xtest)[:,1]\n",
    "\n",
    "print('AUC of testing set:',metrics.roc_auc_score(ytest, y_pred))"
   ]
  },
  {
   "cell_type": "code",
   "execution_count": 56,
   "metadata": {
    "collapsed": false
   },
   "outputs": [
    {
     "name": "stdout",
     "output_type": "stream",
     "text": [
      "             precision    recall  f1-score   support\n",
      "\n",
      "          0       0.62      0.64      0.63     19396\n",
      "          1       0.62      0.60      0.61     19009\n",
      "\n",
      "avg / total       0.62      0.62      0.62     38405\n",
      "\n"
     ]
    }
   ],
   "source": [
    "print(metrics.classification_report(ytest,clf.predict(xtest)))"
   ]
  },
  {
   "cell_type": "code",
   "execution_count": 57,
   "metadata": {
    "collapsed": false,
    "scrolled": false
   },
   "outputs": [
    {
     "data": {
      "text/html": [
       "<div>\n",
       "<table border=\"1\" class=\"dataframe\">\n",
       "  <thead>\n",
       "    <tr style=\"text-align: right;\">\n",
       "      <th></th>\n",
       "      <th>Coefficient Estimation</th>\n",
       "    </tr>\n",
       "  </thead>\n",
       "  <tbody>\n",
       "    <tr>\n",
       "      <th>IsOnlineSale</th>\n",
       "      <td>-0.088831</td>\n",
       "    </tr>\n",
       "    <tr>\n",
       "      <th>VehicleAge</th>\n",
       "      <td>0.240550</td>\n",
       "    </tr>\n",
       "    <tr>\n",
       "      <th>VehOdo</th>\n",
       "      <td>0.455960</td>\n",
       "    </tr>\n",
       "    <tr>\n",
       "      <th>MMRAcquisitionAuctionAveragePrice</th>\n",
       "      <td>-1.610854</td>\n",
       "    </tr>\n",
       "    <tr>\n",
       "      <th>MMRAcquisitionAuctionCleanPrice</th>\n",
       "      <td>0.356180</td>\n",
       "    </tr>\n",
       "    <tr>\n",
       "      <th>MMRAcquisitionRetailAveragePrice</th>\n",
       "      <td>1.584213</td>\n",
       "    </tr>\n",
       "    <tr>\n",
       "      <th>MMRAcquisitonRetailCleanPrice</th>\n",
       "      <td>-0.390256</td>\n",
       "    </tr>\n",
       "    <tr>\n",
       "      <th>MMRCurrentAuctionAveragePrice</th>\n",
       "      <td>1.459920</td>\n",
       "    </tr>\n",
       "    <tr>\n",
       "      <th>MMRCurrentAuctionCleanPrice</th>\n",
       "      <td>-0.081053</td>\n",
       "    </tr>\n",
       "    <tr>\n",
       "      <th>MMRCurrentRetailAveragePrice</th>\n",
       "      <td>-0.822114</td>\n",
       "    </tr>\n",
       "    <tr>\n",
       "      <th>MMRCurrentRetailCleanPrice</th>\n",
       "      <td>-0.489710</td>\n",
       "    </tr>\n",
       "    <tr>\n",
       "      <th>BYRNO</th>\n",
       "      <td>-0.032956</td>\n",
       "    </tr>\n",
       "    <tr>\n",
       "      <th>VehBCost</th>\n",
       "      <td>-0.756665</td>\n",
       "    </tr>\n",
       "    <tr>\n",
       "      <th>WarrantyCost</th>\n",
       "      <td>0.047190</td>\n",
       "    </tr>\n",
       "    <tr>\n",
       "      <th>Auction_ADESA</th>\n",
       "      <td>0.232396</td>\n",
       "    </tr>\n",
       "    <tr>\n",
       "      <th>Auction_MANHEIM</th>\n",
       "      <td>-0.114789</td>\n",
       "    </tr>\n",
       "    <tr>\n",
       "      <th>Auction_OTHER</th>\n",
       "      <td>0.093441</td>\n",
       "    </tr>\n",
       "    <tr>\n",
       "      <th>Transmission_AUTO</th>\n",
       "      <td>0.286783</td>\n",
       "    </tr>\n",
       "    <tr>\n",
       "      <th>Transmission_MANUAL</th>\n",
       "      <td>-0.075735</td>\n",
       "    </tr>\n",
       "    <tr>\n",
       "      <th>Nationality_AMERICAN</th>\n",
       "      <td>0.032733</td>\n",
       "    </tr>\n",
       "    <tr>\n",
       "      <th>Nationality_OTHER</th>\n",
       "      <td>0.220689</td>\n",
       "    </tr>\n",
       "    <tr>\n",
       "      <th>Nationality_OTHER ASIAN</th>\n",
       "      <td>0.017258</td>\n",
       "    </tr>\n",
       "    <tr>\n",
       "      <th>Nationality_TOP LINE ASIAN</th>\n",
       "      <td>-0.059633</td>\n",
       "    </tr>\n",
       "    <tr>\n",
       "      <th>TopThreeAmericanName_CHRYSLER</th>\n",
       "      <td>0.062169</td>\n",
       "    </tr>\n",
       "    <tr>\n",
       "      <th>TopThreeAmericanName_FORD</th>\n",
       "      <td>0.127253</td>\n",
       "    </tr>\n",
       "    <tr>\n",
       "      <th>TopThreeAmericanName_GM</th>\n",
       "      <td>-0.156688</td>\n",
       "    </tr>\n",
       "    <tr>\n",
       "      <th>TopThreeAmericanName_OTHER</th>\n",
       "      <td>0.178314</td>\n",
       "    </tr>\n",
       "  </tbody>\n",
       "</table>\n",
       "</div>"
      ],
      "text/plain": [
       "                                   Coefficient Estimation\n",
       "IsOnlineSale                                    -0.088831\n",
       "VehicleAge                                       0.240550\n",
       "VehOdo                                           0.455960\n",
       "MMRAcquisitionAuctionAveragePrice               -1.610854\n",
       "MMRAcquisitionAuctionCleanPrice                  0.356180\n",
       "MMRAcquisitionRetailAveragePrice                 1.584213\n",
       "MMRAcquisitonRetailCleanPrice                   -0.390256\n",
       "MMRCurrentAuctionAveragePrice                    1.459920\n",
       "MMRCurrentAuctionCleanPrice                     -0.081053\n",
       "MMRCurrentRetailAveragePrice                    -0.822114\n",
       "MMRCurrentRetailCleanPrice                      -0.489710\n",
       "BYRNO                                           -0.032956\n",
       "VehBCost                                        -0.756665\n",
       "WarrantyCost                                     0.047190\n",
       "Auction_ADESA                                    0.232396\n",
       "Auction_MANHEIM                                 -0.114789\n",
       "Auction_OTHER                                    0.093441\n",
       "Transmission_AUTO                                0.286783\n",
       "Transmission_MANUAL                             -0.075735\n",
       "Nationality_AMERICAN                             0.032733\n",
       "Nationality_OTHER                                0.220689\n",
       "Nationality_OTHER ASIAN                          0.017258\n",
       "Nationality_TOP LINE ASIAN                      -0.059633\n",
       "TopThreeAmericanName_CHRYSLER                    0.062169\n",
       "TopThreeAmericanName_FORD                        0.127253\n",
       "TopThreeAmericanName_GM                         -0.156688\n",
       "TopThreeAmericanName_OTHER                       0.178314"
      ]
     },
     "execution_count": 57,
     "metadata": {},
     "output_type": "execute_result"
    }
   ],
   "source": [
    "#coefficients\n",
    "pd.DataFrame(np.transpose(clf.coef_), index= xtrain.columns, columns = ['Coefficient Estimation'])"
   ]
  },
  {
   "cell_type": "markdown",
   "metadata": {
    "collapsed": false
   },
   "source": [
    "The testing accuracy we got from CV is 0.62, which is slightly better than random guess. AUC we get from testing set is 0.67.\n",
    "Increasing the VehBCost would decrease the likelihood of being IsBadBuy. Increasing of the VehOdo, VehicleAge would increase the likelihood of being IsBadBuy.\n",
    "\n",
    "L1 penalty Feature selection is needed in this case for next step"
   ]
  },
  {
   "cell_type": "code",
   "execution_count": 58,
   "metadata": {
    "collapsed": false
   },
   "outputs": [],
   "source": [
    "#test data for Kaggle\n",
    "data_test=pd.read_csv('test.csv',header=0,sep=',',index_col='RefId') #No Y"
   ]
  },
  {
   "cell_type": "code",
   "execution_count": 59,
   "metadata": {
    "collapsed": false
   },
   "outputs": [
    {
     "data": {
      "text/plain": [
       "['IsBadBuy',\n",
       " 'VehicleAge',\n",
       " 'VehOdo',\n",
       " 'MMRAcquisitionAuctionAveragePrice',\n",
       " 'MMRAcquisitionAuctionCleanPrice',\n",
       " 'MMRAcquisitionRetailAveragePrice',\n",
       " 'MMRAcquisitonRetailCleanPrice',\n",
       " 'MMRCurrentAuctionAveragePrice',\n",
       " 'MMRCurrentAuctionCleanPrice',\n",
       " 'MMRCurrentRetailAveragePrice',\n",
       " 'MMRCurrentRetailCleanPrice',\n",
       " 'BYRNO',\n",
       " 'VehBCost',\n",
       " 'IsOnlineSale',\n",
       " 'WarrantyCost']"
      ]
     },
     "execution_count": 59,
     "metadata": {},
     "output_type": "execute_result"
    }
   ],
   "source": [
    "var_num"
   ]
  },
  {
   "cell_type": "code",
   "execution_count": 60,
   "metadata": {
    "collapsed": false
   },
   "outputs": [
    {
     "data": {
      "text/plain": [
       "'\\nvar_all = integer + numeric + cat\\nvar_num  contains IsbadBuy\\n'"
      ]
     },
     "execution_count": 60,
     "metadata": {},
     "output_type": "execute_result"
    }
   ],
   "source": [
    "def fill_missing(df,var_num,var_cat):\n",
    "#     for var in b_num:\n",
    "#         df[var].fillna(np.mean(df[var]), inplace=True)\n",
    "    df[var_num] = df[var_num].apply(lambda x: x.fillna(np.mean(x)))\n",
    "    df[var_cat] = df[var_cat].apply(lambda x: x.fillna(x.value_counts().index[0]))\n",
    "    return df        \n",
    "        \n",
    "data_test=fill_missing(data_test,var_num[1:], var_categorical)    \n",
    "\n",
    "df_test=data_test[var_all[1:]]\n",
    "'''\n",
    "var_all = integer + numeric + cat\n",
    "var_num  contains IsbadBuy\n",
    "'''\n",
    "#b=data_test.isnull().sum()\n",
    "\n",
    "# b[b!=0]\n",
    "# b_num=(b[b!=0].index)[:8]\n",
    "# b_cat=(b[b!=0].index)[8:]\n",
    "\n",
    "# data_test['TopThreeAmericanName'].value_counts().index[0]\n"
   ]
  },
  {
   "cell_type": "code",
   "execution_count": 61,
   "metadata": {
    "collapsed": false
   },
   "outputs": [
    {
     "name": "stderr",
     "output_type": "stream",
     "text": [
      "C:\\ProgramData\\Miniconda3\\lib\\site-packages\\pandas\\core\\frame.py:2440: SettingWithCopyWarning: \n",
      "A value is trying to be set on a copy of a slice from a DataFrame.\n",
      "Try using .loc[row_indexer,col_indexer] = value instead\n",
      "\n",
      "See the caveats in the documentation: http://pandas.pydata.org/pandas-docs/stable/indexing.html#indexing-view-versus-copy\n",
      "  self[k1] = value[k2]\n"
     ]
    }
   ],
   "source": [
    "#do log transformation for the large numeric features\n",
    "def scale_large(df, sc):\n",
    "    #sc is the list of features with large numbers\n",
    "    df[sc]=df[sc].apply(lambda x : np.log(x + 1))\n",
    "    return df\n",
    "df_test_scale = scale_large(df_test, cols_scale)"
   ]
  },
  {
   "cell_type": "code",
   "execution_count": 62,
   "metadata": {
    "collapsed": false
   },
   "outputs": [],
   "source": [
    "df_test_new = pd.get_dummies(df_test_scale, columns=cat)\n",
    "\n",
    "test_pred = clf.predict(df_test_new)\n",
    "\n",
    "pd.DataFrame(OrderedDict({'RefId': data_test.index,\n",
    "              \"IsBadBuy\": test_pred})).to_csv('submission.csv',index=False)"
   ]
  },
  {
   "cell_type": "markdown",
   "metadata": {},
   "source": [
    "The submission on Kaggle  indicates the model is very poor wit Gini Index 0.196, which is as we expected......"
   ]
  },
  {
   "cell_type": "markdown",
   "metadata": {
    "collapsed": true
   },
   "source": [
    "### Next Step :"
   ]
  },
  {
   "cell_type": "markdown",
   "metadata": {},
   "source": [
    "> + The missing values could be imputed: VNZIP1,Trim, WheelType, PRIMEUNIT and AUCGUART  <br>\n",
    "\n",
    "> + Though PurchDate is strongly correlated with VehicleAge, we could create new 'bins'( month, week, days) from the datatime \n",
    "\n",
    "> + For the other high-class categorical variables below( the number is the # of classes for each). We might reduce the levels by following their pattern  <br>\n",
    " Size 12 <br>\n",
    " Make 32 <br>\n",
    " Model 962  <br>\n",
    " Trim 134   <br>\n",
    " SubModel 834   <br>\n",
    " Color 16   <br>\n",
    " VNST 37    <br>\n",
    "\n",
    "> + We could check the correlation between the numerical values, remove some of the features are strongly correlated , or combine multiple into one  <br>\n",
    "\n",
    "> + Apply L1 penalty for feature selection    <br>\n",
    "> + Tune the model parameters using grid search. <br>\n",
    "\n",
    "> + PCA could be used to reduce the dimension if obtaining prediction accuracy is our goal, though it will be difficult to intepretate the results  <br>\n",
    "\n",
    "> + If still not significantly improved, we may want to try other models,like Random Forest, SVM, Gradient Boosting，XGBoost and feedforward neural network. (Logistic Regression assumes linear decision boundary. This may not be the real case for the data)   <br>"
   ]
  }
 ],
 "metadata": {
  "kernelspec": {
   "display_name": "Python 3",
   "language": "python",
   "name": "python3"
  },
  "language_info": {
   "codemirror_mode": {
    "name": "ipython",
    "version": 3
   },
   "file_extension": ".py",
   "mimetype": "text/x-python",
   "name": "python",
   "nbconvert_exporter": "python",
   "pygments_lexer": "ipython3",
   "version": "3.6.0"
  }
 },
 "nbformat": 4,
 "nbformat_minor": 2
}
